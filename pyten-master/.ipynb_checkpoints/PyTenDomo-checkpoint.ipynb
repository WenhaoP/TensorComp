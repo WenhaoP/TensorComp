{
 "cells": [
  {
   "cell_type": "markdown",
   "metadata": {},
   "source": [
    "# <center>PyTen Package Tutorial</center>\n",
    "#### <center>Texas A&M University HELIOS Group</center>"
   ]
  },
  {
   "cell_type": "markdown",
   "metadata": {},
   "source": [
    "## Import PyTen Packge"
   ]
  },
  {
   "cell_type": "code",
   "execution_count": 1,
   "metadata": {},
   "outputs": [],
   "source": [
    "import pyten"
   ]
  },
  {
   "cell_type": "markdown",
   "metadata": {},
   "source": [
    "## Quick Start"
   ]
  },
  {
   "cell_type": "code",
   "execution_count": 23,
   "metadata": {
    "scrolled": false
   },
   "outputs": [
    {
     "ename": "KeyboardInterrupt",
     "evalue": "Interrupted by user",
     "output_type": "error",
     "traceback": [
      "\u001b[1;31m---------------------------------------------------------------------------\u001b[0m",
      "\u001b[1;31mKeyboardInterrupt\u001b[0m                         Traceback (most recent call last)",
      "\u001b[1;32m<ipython-input-23-155cf56f3d83>\u001b[0m in \u001b[0;36m<module>\u001b[1;34m\u001b[0m\n\u001b[0;32m      1\u001b[0m \u001b[1;31m# This is a quick start without prior input\u001b[0m\u001b[1;33m\u001b[0m\u001b[1;33m\u001b[0m\u001b[1;33m\u001b[0m\u001b[0m\n\u001b[1;32m----> 2\u001b[1;33m \u001b[1;33m[\u001b[0m\u001b[0mOriTensor\u001b[0m\u001b[1;33m,\u001b[0m \u001b[0mDeTensor\u001b[0m\u001b[1;33m,\u001b[0m \u001b[0mTenClass\u001b[0m\u001b[1;33m,\u001b[0m \u001b[0mRecTensor\u001b[0m\u001b[1;33m]\u001b[0m \u001b[1;33m=\u001b[0m \u001b[0mpyten\u001b[0m\u001b[1;33m.\u001b[0m\u001b[0mUI\u001b[0m\u001b[1;33m.\u001b[0m\u001b[0mhelios\u001b[0m\u001b[1;33m(\u001b[0m\u001b[1;33m)\u001b[0m\u001b[1;33m\u001b[0m\u001b[1;33m\u001b[0m\u001b[0m\n\u001b[0m",
      "\u001b[1;32m~\\Documents\\Research\\2022\\pyten-master\\pyten\\UI\\helios.py\u001b[0m in \u001b[0;36mhelios\u001b[1;34m(scenario)\u001b[0m\n\u001b[0;32m     15\u001b[0m     \u001b[1;31m# User Interface\u001b[0m\u001b[1;33m\u001b[0m\u001b[1;33m\u001b[0m\u001b[1;33m\u001b[0m\u001b[0m\n\u001b[0;32m     16\u001b[0m     \u001b[1;32mif\u001b[0m \u001b[0mscenario\u001b[0m \u001b[1;32mis\u001b[0m \u001b[1;32mNone\u001b[0m\u001b[1;33m:\u001b[0m\u001b[1;33m\u001b[0m\u001b[1;33m\u001b[0m\u001b[0m\n\u001b[1;32m---> 17\u001b[1;33m         scenario = input(\"Please choose the scenario:\\n\"\n\u001b[0m\u001b[0;32m     18\u001b[0m                              \u001b[1;34m\" 1. Basic Tensor Decomposition/Completion  2.Tensor Decompostion/Completion with Auxiliary Information\"\u001b[0m\u001b[1;33m\u001b[0m\u001b[1;33m\u001b[0m\u001b[0m\n\u001b[0;32m     19\u001b[0m                              \" 3.Dynamic Tensor Decomposition/Completion 4.Scalable Tensor Decomposition/Completion 0.Exit \\n\")\n",
      "\u001b[1;32mc:\\program files\\python38\\lib\\site-packages\\ipykernel\\kernelbase.py\u001b[0m in \u001b[0;36mraw_input\u001b[1;34m(self, prompt)\u001b[0m\n\u001b[0;32m    858\u001b[0m                 \u001b[1;34m\"raw_input was called, but this frontend does not support input requests.\"\u001b[0m\u001b[1;33m\u001b[0m\u001b[1;33m\u001b[0m\u001b[0m\n\u001b[0;32m    859\u001b[0m             )\n\u001b[1;32m--> 860\u001b[1;33m         return self._input_request(str(prompt),\n\u001b[0m\u001b[0;32m    861\u001b[0m             \u001b[0mself\u001b[0m\u001b[1;33m.\u001b[0m\u001b[0m_parent_ident\u001b[0m\u001b[1;33m,\u001b[0m\u001b[1;33m\u001b[0m\u001b[1;33m\u001b[0m\u001b[0m\n\u001b[0;32m    862\u001b[0m             \u001b[0mself\u001b[0m\u001b[1;33m.\u001b[0m\u001b[0m_parent_header\u001b[0m\u001b[1;33m,\u001b[0m\u001b[1;33m\u001b[0m\u001b[1;33m\u001b[0m\u001b[0m\n",
      "\u001b[1;32mc:\\program files\\python38\\lib\\site-packages\\ipykernel\\kernelbase.py\u001b[0m in \u001b[0;36m_input_request\u001b[1;34m(self, prompt, ident, parent, password)\u001b[0m\n\u001b[0;32m    902\u001b[0m             \u001b[1;32mexcept\u001b[0m \u001b[0mKeyboardInterrupt\u001b[0m\u001b[1;33m:\u001b[0m\u001b[1;33m\u001b[0m\u001b[1;33m\u001b[0m\u001b[0m\n\u001b[0;32m    903\u001b[0m                 \u001b[1;31m# re-raise KeyboardInterrupt, to truncate traceback\u001b[0m\u001b[1;33m\u001b[0m\u001b[1;33m\u001b[0m\u001b[1;33m\u001b[0m\u001b[0m\n\u001b[1;32m--> 904\u001b[1;33m                 \u001b[1;32mraise\u001b[0m \u001b[0mKeyboardInterrupt\u001b[0m\u001b[1;33m(\u001b[0m\u001b[1;34m\"Interrupted by user\"\u001b[0m\u001b[1;33m)\u001b[0m \u001b[1;32mfrom\u001b[0m \u001b[1;32mNone\u001b[0m\u001b[1;33m\u001b[0m\u001b[1;33m\u001b[0m\u001b[0m\n\u001b[0m\u001b[0;32m    905\u001b[0m             \u001b[1;32mexcept\u001b[0m \u001b[0mException\u001b[0m \u001b[1;32mas\u001b[0m \u001b[0me\u001b[0m\u001b[1;33m:\u001b[0m\u001b[1;33m\u001b[0m\u001b[1;33m\u001b[0m\u001b[0m\n\u001b[0;32m    906\u001b[0m                 \u001b[0mself\u001b[0m\u001b[1;33m.\u001b[0m\u001b[0mlog\u001b[0m\u001b[1;33m.\u001b[0m\u001b[0mwarning\u001b[0m\u001b[1;33m(\u001b[0m\u001b[1;34m\"Invalid Message:\"\u001b[0m\u001b[1;33m,\u001b[0m \u001b[0mexc_info\u001b[0m\u001b[1;33m=\u001b[0m\u001b[1;32mTrue\u001b[0m\u001b[1;33m)\u001b[0m\u001b[1;33m\u001b[0m\u001b[1;33m\u001b[0m\u001b[0m\n",
      "\u001b[1;31mKeyboardInterrupt\u001b[0m: Interrupted by user"
     ]
    }
   ],
   "source": [
    "# This is a quick start without prior input\n",
    "[OriTensor, DeTensor, TenClass, RecTensor] = pyten.UI.helios()"
   ]
  },
  {
   "cell_type": "markdown",
   "metadata": {},
   "source": [
    "Show Results as follows:\n",
    "* Original Tensor"
   ]
  },
  {
   "cell_type": "code",
   "execution_count": null,
   "metadata": {},
   "outputs": [],
   "source": [
    "print OriTensor  # Original Tensor"
   ]
  },
  {
   "cell_type": "markdown",
   "metadata": {},
   "source": [
    "* Full Tensor reconstructed by decomposed matrices"
   ]
  },
  {
   "cell_type": "code",
   "execution_count": null,
   "metadata": {},
   "outputs": [],
   "source": [
    "print DeTensor.data  # Full Tensor reconstructed by decomposed matrices"
   ]
  },
  {
   "cell_type": "markdown",
   "metadata": {},
   "source": [
    "* Final Decomposition Results e.g. Ttensor or Ktensor"
   ]
  },
  {
   "cell_type": "code",
   "execution_count": null,
   "metadata": {},
   "outputs": [],
   "source": [
    "print TenClass  # Final Decomposition Results e.g. Ttensor or Ktensor"
   ]
  },
  {
   "cell_type": "markdown",
   "metadata": {},
   "source": [
    "* Recovered Tensor (Completed Tensor)"
   ]
  },
  {
   "cell_type": "code",
   "execution_count": null,
   "metadata": {},
   "outputs": [],
   "source": [
    "print RecTensor.data  # Recovered Tensor (Completed Tensor)"
   ]
  },
  {
   "cell_type": "markdown",
   "metadata": {
    "collapsed": true
   },
   "source": [
    "## Four UI Functions For Four Scenarios\n",
    "### Scenario 1: Basic Tensor completion or decomposition."
   ]
  },
  {
   "cell_type": "code",
   "execution_count": null,
   "metadata": {},
   "outputs": [],
   "source": [
    "[OriTensor, DeTensor, TenClass, RecTensor] = pyten.UI.basic()"
   ]
  },
  {
   "cell_type": "markdown",
   "metadata": {},
   "source": [
    "### Scenario 2: Tensor completion or decomposition with auxiliary information"
   ]
  },
  {
   "cell_type": "code",
   "execution_count": null,
   "metadata": {},
   "outputs": [],
   "source": [
    "[OriTensor, DeTensor, TenClass, RecTensor] = pyten.UI.auxiliary()"
   ]
  },
  {
   "cell_type": "markdown",
   "metadata": {},
   "source": [
    "### Scenario 3: Dynamic/Online/Streaming Tensor completion or decomposition"
   ]
  },
  {
   "cell_type": "code",
   "execution_count": null,
   "metadata": {},
   "outputs": [],
   "source": [
    "[OriTensor, DeTensor, TenClass, RecTensor] = pyten.UI.dynamic()"
   ]
  },
  {
   "cell_type": "markdown",
   "metadata": {},
   "source": [
    "### Scenario 4: Scalable Tensor completion or decomposition"
   ]
  },
  {
   "cell_type": "code",
   "execution_count": null,
   "metadata": {},
   "outputs": [],
   "source": [
    "[OriTensor, DeTensor, TenClass, RecTensor] = pyten.UI.scalable()"
   ]
  },
  {
   "cell_type": "markdown",
   "metadata": {},
   "source": [
    "## Usage of Main Functions\n",
    "### Function: create\n",
    "1. Create Tensor Completion Problem"
   ]
  },
  {
   "cell_type": "code",
   "execution_count": 2,
   "metadata": {},
   "outputs": [],
   "source": [
    "from pyten.tools import create  # Import the problem creation function\n",
    "\n",
    "problem = 'basic'  # Problem Definition\n",
    "siz = [20, 20, 20]  # Size of the Created Synthetic Tensor\n",
    "r = [4, 4, 4]  # Rank of the Created Synthetic Tensor\n",
    "miss = 0.8  # Missing Percentage\n",
    "tp = 'CP'  # Solution Format (Creating Method) of the Created Synthetic Tensor\n",
    "[X1, Omega1, sol1] = create(problem, siz, r, miss, tp)"
   ]
  },
  {
   "cell_type": "markdown",
   "metadata": {},
   "source": [
    "### Scenario 1: Basic Tensor Completion/Decomposition\n",
    "#### 1. Solve Synthetic Completion Problem"
   ]
  },
  {
   "cell_type": "code",
   "execution_count": 2,
   "metadata": {},
   "outputs": [
    {
     "name": "stdout",
     "output_type": "stream",
     "text": [
      "\n",
      "CP_ALS:\n",
      "\n",
      "CP_ALS: iterations=100, f-delta=0.010898343979275584\n",
      "\n",
      "Tucker Alternating Least-Squares:\n",
      "\n",
      " Tucker_ALS: iterations=100, fit = 0.9660487084760262, fit-delta = 0.007381517612322295\n",
      "\n",
      "FaLRTC ends: total iterations = 100   difference = [4.01551477e-05]\n",
      "\n",
      "\n",
      "SiLRTC ends: total iterations = 44   difference = [9.12657937e-06]\n",
      "\n",
      "\n",
      "HaLRTC ends: total iterations = 2   difference = [0.]\n",
      "\n",
      "\n",
      "TNCP: iterations=314, difference=9.676997890452345e-06\n",
      "n The Relative Error of the Six Methods are: 0.018295212296568258 0.10141883972844393 0.20571062704467213 1.0 1.0 0.01166951354363273\n"
     ]
    }
   ],
   "source": [
    "from pyten.tools import create  # Import the problem creation function\n",
    "\n",
    "problem = 'basic'  # Define Problem As Basic Tensor Completion Problem\n",
    "siz = [20, 20, 20]  # Size of the Created Synthetic Tensor\n",
    "r = [4, 4, 4]  # Rank of the Created Synthetic Tensor\n",
    "miss = 0.8  # Missing Percentage\n",
    "tp = 'CP'  # Define Solution Format of the Created Synthetic Tensor As 'CP decomposition'\n",
    "[X1, Omega1, sol1] = create(problem, siz, r, miss, tp)\n",
    "\n",
    "print(X1.data)\n",
    "print(Omega1)\n",
    "\n",
    "# Basic Tensor Completion with methods: CP-ALS,Tucker-ALS, FaLRTC, SiLRTC, HaLRTC, TNCP\n",
    "from pyten.method import *\n",
    "\n",
    "r = 4  # Rank for CP-based methods\n",
    "R = [4, 4, 4]  # Rank for tucker-based methods\n",
    "# CP-ALS\n",
    "[T1, rX1] = cp_als(X1, r, Omega1)  # if no missing data just omit Omega1 by using [T1,rX1]=cp_als.cp_als(X1,r)\n",
    "# print sol1.totensor().data\n",
    "# print rX1.data\n",
    "\n",
    "# Tucker-ALS\n",
    "[T2, rX2] = tucker_als(X1, R, Omega1)  # if no missing data just omit Omega1\n",
    "# FalRTC, SiLRTC, HaLRTC\n",
    "rX3 = falrtc(X1, Omega1)\n",
    "rX4 = silrtc(X1, Omega1)\n",
    "rX5 = halrtc(X1, Omega1)\n",
    "# TNCP\n",
    "self1 = TNCP(X1, Omega1, rank=r)\n",
    "self1.run()\n",
    "\n",
    "# Error Testing\n",
    "from pyten.tools import tenerror\n",
    "\n",
    "realX = sol1.totensor()\n",
    "[Err1, ReErr11, ReErr21] = tenerror(rX1, realX, Omega1)\n",
    "[Err2, ReErr12, ReErr22] = tenerror(rX2, realX, Omega1)\n",
    "[Err3, ReErr13, ReErr23] = tenerror(rX3, realX, Omega1)\n",
    "[Err4, ReErr14, ReErr24] = tenerror(rX4, realX, Omega1)\n",
    "[Err5, ReErr15, ReErr25] = tenerror(rX5, realX, Omega1)\n",
    "[Err6, ReErr16, ReErr26] = tenerror(self1.X, realX, Omega1)\n",
    "print('n', 'The Relative Error of the Six Methods are:', ReErr21, ReErr22, ReErr23, ReErr24, ReErr25, ReErr26)\n"
   ]
  },
  {
   "cell_type": "markdown",
   "metadata": {},
   "source": [
    "#### 2. Real Problem - Image Recovery"
   ]
  },
  {
   "cell_type": "code",
   "execution_count": 4,
   "metadata": {},
   "outputs": [
    {
     "name": "stderr",
     "output_type": "stream",
     "text": [
      "Clipping input data to the valid range for imshow with RGB data ([0..1] for floats or [0..255] for integers).\n"
     ]
    },
    {
     "data": {
      "text/plain": [
       "<matplotlib.image.AxesImage at 0x10fc9f79280>"
      ]
     },
     "execution_count": 4,
     "metadata": {},
     "output_type": "execute_result"
    },
    {
     "data": {
      "image/png": "[encoded data removed]",
      "text/plain": [
       "<Figure size 432x288 with 1 Axes>"
      ]
     },
     "metadata": {
      "needs_background": "light"
     },
     "output_type": "display_data"
    }
   ],
   "source": [
    "plt.imshow(realX.data/255)\n",
    "plt.imshow(rX1.data/255)\n",
    "#plt.imshow(rX2.data)[]"
   ]
  },
  {
   "cell_type": "code",
   "execution_count": 3,
   "metadata": {},
   "outputs": [
    {
     "name": "stdout",
     "output_type": "stream",
     "text": [
      "\n",
      "CP_ALS:\n",
      "\n"
     ]
    },
    {
     "name": "stderr",
     "output_type": "stream",
     "text": [
      "C:\\Users\\hobbe\\Documents\\Research\\2022\\pyten-master\\pyten\\tenclass\\ktensor.py:35: VisibleDeprecationWarning: Creating an ndarray from ragged nested sequences (which is a list-or-tuple of lists-or-tuples-or ndarrays with different lengths or shapes) is deprecated. If you meant to do this, you must specify 'dtype=object' when creating the ndarray.\n",
      "  self.Us = np.array(us)\n"
     ]
    },
    {
     "name": "stdout",
     "output_type": "stream",
     "text": [
      "CP_ALS: iterations=100, f-delta=7.781294323417995\n",
      "CP_ALS: iterations=200, f-delta=4.371625132935996\n",
      "CP_ALS: iterations=300, f-delta=3.210240741964409\n",
      "CP_ALS: iterations=400, f-delta=2.344871118196274\n",
      "CP_ALS: iterations=500, f-delta=1.8356361192795616\n",
      "CP_ALS: iterations=600, f-delta=1.518734909691072\n",
      "CP_ALS: iterations=700, f-delta=1.304531358916472\n",
      "CP_ALS: iterations=800, f-delta=1.143216390918938\n",
      "CP_ALS: iterations=900, f-delta=1.0105939163282598\n",
      "CP_ALS: iterations=1000, f-delta=0.8994182878615752\n",
      "\n",
      "Tucker Alternating Least-Squares:\n",
      "\n"
     ]
    },
    {
     "name": "stderr",
     "output_type": "stream",
     "text": [
      "Clipping input data to the valid range for imshow with RGB data ([0..1] for floats or [0..255] for integers).\n",
      "Clipping input data to the valid range for imshow with RGB data ([0..1] for floats or [0..255] for integers).\n"
     ]
    },
    {
     "name": "stdout",
     "output_type": "stream",
     "text": [
      " Tucker_ALS: iterations=100, fit = 0.47229278721252865, fit-delta = 0.11781577695605502\n",
      "\n",
      "\n",
      " The Relative Error of the Six Methods are: 0.8356249880617512 1.0583934844856746\n"
     ]
    },
    {
     "ename": "TypeError",
     "evalue": "Image data of dtype complex128 cannot be converted to float",
     "output_type": "error",
     "traceback": [
      "\u001b[1;31m---------------------------------------------------------------------------\u001b[0m",
      "\u001b[1;31mTypeError\u001b[0m                                 Traceback (most recent call last)",
      "\u001b[1;32m<ipython-input-3-d688d9ff5462>\u001b[0m in \u001b[0;36m<module>\u001b[1;34m\u001b[0m\n\u001b[0;32m     43\u001b[0m \u001b[0mplt\u001b[0m\u001b[1;33m.\u001b[0m\u001b[0mimshow\u001b[0m\u001b[1;33m(\u001b[0m\u001b[0mrealX\u001b[0m\u001b[1;33m.\u001b[0m\u001b[0mdata\u001b[0m\u001b[1;33m)\u001b[0m\u001b[1;33m\u001b[0m\u001b[1;33m\u001b[0m\u001b[0m\n\u001b[0;32m     44\u001b[0m \u001b[0mplt\u001b[0m\u001b[1;33m.\u001b[0m\u001b[0mimshow\u001b[0m\u001b[1;33m(\u001b[0m\u001b[0mrX1\u001b[0m\u001b[1;33m.\u001b[0m\u001b[0mdata\u001b[0m\u001b[1;33m)\u001b[0m\u001b[1;33m\u001b[0m\u001b[1;33m\u001b[0m\u001b[0m\n\u001b[1;32m---> 45\u001b[1;33m \u001b[0mplt\u001b[0m\u001b[1;33m.\u001b[0m\u001b[0mimshow\u001b[0m\u001b[1;33m(\u001b[0m\u001b[0mrX2\u001b[0m\u001b[1;33m.\u001b[0m\u001b[0mdata\u001b[0m\u001b[1;33m)\u001b[0m\u001b[1;33m\u001b[0m\u001b[1;33m\u001b[0m\u001b[0m\n\u001b[0m",
      "\u001b[1;32mc:\\program files\\python38\\lib\\site-packages\\matplotlib\\pyplot.py\u001b[0m in \u001b[0;36mimshow\u001b[1;34m(X, cmap, norm, aspect, interpolation, alpha, vmin, vmax, origin, extent, filternorm, filterrad, resample, url, data, **kwargs)\u001b[0m\n\u001b[0;32m   2722\u001b[0m         \u001b[0mfilternorm\u001b[0m\u001b[1;33m=\u001b[0m\u001b[1;32mTrue\u001b[0m\u001b[1;33m,\u001b[0m \u001b[0mfilterrad\u001b[0m\u001b[1;33m=\u001b[0m\u001b[1;36m4.0\u001b[0m\u001b[1;33m,\u001b[0m \u001b[0mresample\u001b[0m\u001b[1;33m=\u001b[0m\u001b[1;32mNone\u001b[0m\u001b[1;33m,\u001b[0m \u001b[0murl\u001b[0m\u001b[1;33m=\u001b[0m\u001b[1;32mNone\u001b[0m\u001b[1;33m,\u001b[0m\u001b[1;33m\u001b[0m\u001b[1;33m\u001b[0m\u001b[0m\n\u001b[0;32m   2723\u001b[0m         data=None, **kwargs):\n\u001b[1;32m-> 2724\u001b[1;33m     __ret = gca().imshow(\n\u001b[0m\u001b[0;32m   2725\u001b[0m         \u001b[0mX\u001b[0m\u001b[1;33m,\u001b[0m \u001b[0mcmap\u001b[0m\u001b[1;33m=\u001b[0m\u001b[0mcmap\u001b[0m\u001b[1;33m,\u001b[0m \u001b[0mnorm\u001b[0m\u001b[1;33m=\u001b[0m\u001b[0mnorm\u001b[0m\u001b[1;33m,\u001b[0m \u001b[0maspect\u001b[0m\u001b[1;33m=\u001b[0m\u001b[0maspect\u001b[0m\u001b[1;33m,\u001b[0m\u001b[1;33m\u001b[0m\u001b[1;33m\u001b[0m\u001b[0m\n\u001b[0;32m   2726\u001b[0m         \u001b[0minterpolation\u001b[0m\u001b[1;33m=\u001b[0m\u001b[0minterpolation\u001b[0m\u001b[1;33m,\u001b[0m \u001b[0malpha\u001b[0m\u001b[1;33m=\u001b[0m\u001b[0malpha\u001b[0m\u001b[1;33m,\u001b[0m \u001b[0mvmin\u001b[0m\u001b[1;33m=\u001b[0m\u001b[0mvmin\u001b[0m\u001b[1;33m,\u001b[0m\u001b[1;33m\u001b[0m\u001b[1;33m\u001b[0m\u001b[0m\n",
      "\u001b[1;32mc:\\program files\\python38\\lib\\site-packages\\matplotlib\\__init__.py\u001b[0m in \u001b[0;36minner\u001b[1;34m(ax, data, *args, **kwargs)\u001b[0m\n\u001b[0;32m   1436\u001b[0m     \u001b[1;32mdef\u001b[0m \u001b[0minner\u001b[0m\u001b[1;33m(\u001b[0m\u001b[0max\u001b[0m\u001b[1;33m,\u001b[0m \u001b[1;33m*\u001b[0m\u001b[0margs\u001b[0m\u001b[1;33m,\u001b[0m \u001b[0mdata\u001b[0m\u001b[1;33m=\u001b[0m\u001b[1;32mNone\u001b[0m\u001b[1;33m,\u001b[0m \u001b[1;33m**\u001b[0m\u001b[0mkwargs\u001b[0m\u001b[1;33m)\u001b[0m\u001b[1;33m:\u001b[0m\u001b[1;33m\u001b[0m\u001b[1;33m\u001b[0m\u001b[0m\n\u001b[0;32m   1437\u001b[0m         \u001b[1;32mif\u001b[0m \u001b[0mdata\u001b[0m \u001b[1;32mis\u001b[0m \u001b[1;32mNone\u001b[0m\u001b[1;33m:\u001b[0m\u001b[1;33m\u001b[0m\u001b[1;33m\u001b[0m\u001b[0m\n\u001b[1;32m-> 1438\u001b[1;33m             \u001b[1;32mreturn\u001b[0m \u001b[0mfunc\u001b[0m\u001b[1;33m(\u001b[0m\u001b[0max\u001b[0m\u001b[1;33m,\u001b[0m \u001b[1;33m*\u001b[0m\u001b[0mmap\u001b[0m\u001b[1;33m(\u001b[0m\u001b[0msanitize_sequence\u001b[0m\u001b[1;33m,\u001b[0m \u001b[0margs\u001b[0m\u001b[1;33m)\u001b[0m\u001b[1;33m,\u001b[0m \u001b[1;33m**\u001b[0m\u001b[0mkwargs\u001b[0m\u001b[1;33m)\u001b[0m\u001b[1;33m\u001b[0m\u001b[1;33m\u001b[0m\u001b[0m\n\u001b[0m\u001b[0;32m   1439\u001b[0m \u001b[1;33m\u001b[0m\u001b[0m\n\u001b[0;32m   1440\u001b[0m         \u001b[0mbound\u001b[0m \u001b[1;33m=\u001b[0m \u001b[0mnew_sig\u001b[0m\u001b[1;33m.\u001b[0m\u001b[0mbind\u001b[0m\u001b[1;33m(\u001b[0m\u001b[0max\u001b[0m\u001b[1;33m,\u001b[0m \u001b[1;33m*\u001b[0m\u001b[0margs\u001b[0m\u001b[1;33m,\u001b[0m \u001b[1;33m**\u001b[0m\u001b[0mkwargs\u001b[0m\u001b[1;33m)\u001b[0m\u001b[1;33m\u001b[0m\u001b[1;33m\u001b[0m\u001b[0m\n",
      "\u001b[1;32mc:\\program files\\python38\\lib\\site-packages\\matplotlib\\axes\\_axes.py\u001b[0m in \u001b[0;36mimshow\u001b[1;34m(self, X, cmap, norm, aspect, interpolation, alpha, vmin, vmax, origin, extent, filternorm, filterrad, resample, url, **kwargs)\u001b[0m\n\u001b[0;32m   5521\u001b[0m                               resample=resample, **kwargs)\n\u001b[0;32m   5522\u001b[0m \u001b[1;33m\u001b[0m\u001b[0m\n\u001b[1;32m-> 5523\u001b[1;33m         \u001b[0mim\u001b[0m\u001b[1;33m.\u001b[0m\u001b[0mset_data\u001b[0m\u001b[1;33m(\u001b[0m\u001b[0mX\u001b[0m\u001b[1;33m)\u001b[0m\u001b[1;33m\u001b[0m\u001b[1;33m\u001b[0m\u001b[0m\n\u001b[0m\u001b[0;32m   5524\u001b[0m         \u001b[0mim\u001b[0m\u001b[1;33m.\u001b[0m\u001b[0mset_alpha\u001b[0m\u001b[1;33m(\u001b[0m\u001b[0malpha\u001b[0m\u001b[1;33m)\u001b[0m\u001b[1;33m\u001b[0m\u001b[1;33m\u001b[0m\u001b[0m\n\u001b[0;32m   5525\u001b[0m         \u001b[1;32mif\u001b[0m \u001b[0mim\u001b[0m\u001b[1;33m.\u001b[0m\u001b[0mget_clip_path\u001b[0m\u001b[1;33m(\u001b[0m\u001b[1;33m)\u001b[0m \u001b[1;32mis\u001b[0m \u001b[1;32mNone\u001b[0m\u001b[1;33m:\u001b[0m\u001b[1;33m\u001b[0m\u001b[1;33m\u001b[0m\u001b[0m\n",
      "\u001b[1;32mc:\\program files\\python38\\lib\\site-packages\\matplotlib\\image.py\u001b[0m in \u001b[0;36mset_data\u001b[1;34m(self, A)\u001b[0m\n\u001b[0;32m    698\u001b[0m         if (self._A.dtype != np.uint8 and\n\u001b[0;32m    699\u001b[0m                 not np.can_cast(self._A.dtype, float, \"same_kind\")):\n\u001b[1;32m--> 700\u001b[1;33m             raise TypeError(\"Image data of dtype {} cannot be converted to \"\n\u001b[0m\u001b[0;32m    701\u001b[0m                             \"float\".format(self._A.dtype))\n\u001b[0;32m    702\u001b[0m \u001b[1;33m\u001b[0m\u001b[0m\n",
      "\u001b[1;31mTypeError\u001b[0m: Image data of dtype complex128 cannot be converted to float"
     ]
    },
    {
     "data": {
      "image/png": "[encoded data removed]",
      "text/plain": [
       "<Figure size 432x288 with 1 Axes>"
      ]
     },
     "metadata": {
      "needs_background": "light"
     },
     "output_type": "display_data"
    }
   ],
   "source": [
    "import matplotlib.pyplot as plt\n",
    "import matplotlib.image as mpimg  # Use it to load image\n",
    "import numpy as np\n",
    "\n",
    "lena = mpimg.imread(\"test/testImg.png\")\n",
    "im = np.double(np.uint8(lena * 255))\n",
    "im = im[0:50, 0:50, 0:3]\n",
    "\n",
    "from pyten.tenclass import Tensor  # Use it to construct Tensor object\n",
    "\n",
    "X1 = Tensor(im)  # Construct Image Tensor to be Completed\n",
    "X0 = X1.data.copy()\n",
    "X0 = Tensor(X0)  # Save the Ground Truth\n",
    "Omega1 = (im < 100) * 1.0  # Missing index Tensor\n",
    "X1.data[Omega1 == 0] = 0\n",
    "\n",
    "# Basic Tensor Completion with methods: CP-ALS, Tucker-ALS, FaLRTC, SiLRTC, HaLRTC, TNCP\n",
    "from pyten.method import *\n",
    "\n",
    "r = 4\n",
    "R = [10, 10, 3]  # Rank for tucker-based methods\n",
    "[T1, rX1] = cp_als(X1, r, Omega1, maxiter=1000, printitn=100)\n",
    "[T2, rX2] = tucker_als(X1, R, Omega1, max_iter=100, printitn=100)\n",
    "alpha = np.array([1.0, 1.0, 1e-3])\n",
    "alpha = alpha / sum(alpha)\n",
    "#rX3 = falrtc(X1, Omega1, max_iter=100, alpha=alpha)\n",
    "#rX4 = silrtc(X1, Omega1, max_iter=100, alpha=alpha)\n",
    "#rX5 = halrtc(X1, Omega1, max_iter=100, alpha=alpha)\n",
    "#self1 = TNCP(X1, Omega1, rank=r)\n",
    "#self1.run()\n",
    "\n",
    "# Error Testing\n",
    "from pyten.tools import tenerror\n",
    "\n",
    "realX = X0\n",
    "[Err1, ReErr11, ReErr21] = tenerror(rX1, realX, Omega1)\n",
    "[Err2, ReErr12, ReErr22] = tenerror(rX2, realX, Omega1)\n",
    "#[Err3, ReErr13, ReErr23] = tenerror(rX3, realX, Omega1)\n",
    "#[Err4, ReErr14, ReErr24] = tenerror(rX4, realX, Omega1)\n",
    "#[Err5, ReErr15, ReErr25] = tenerror(rX5, realX, Omega1)\n",
    "#[Err6, ReErr16, ReErr26] = tenerror(self1.X, realX, Omega1)\n",
    "print('\\n', 'The Relative Error of the Six Methods are:', ReErr21, ReErr22)#, ReErr23, ReErr24, ReErr25, ReErr26)\n",
    "plt.imshow(realX.data)\n",
    "plt.imshow(rX1.data)\n",
    "plt.imshow(rX2.data)"
   ]
  },
  {
   "cell_type": "markdown",
   "metadata": {},
   "source": [
    "### Scenario 2: Tensor Completion/Decomposition with Auxiliary Information\n",
    "#### 1. Use  AirCP Method to solve Tensor Completion With Auxiliary Similarity Matrices"
   ]
  },
  {
   "cell_type": "code",
   "execution_count": null,
   "metadata": {},
   "outputs": [],
   "source": [
    "from pyten.method import AirCP  # Import AirCP\n",
    "from pyten.tools import create  # Import the problem creation function\n",
    "\n",
    "problem = 'auxiliary'  # Define Problem As Basic Tensor Completion Problem\n",
    "siz = [20, 20, 20]  # Size of the Created Synthetic Tensor\n",
    "r = [4, 4, 4]  # Rank of the Created Synthetic Tensor\n",
    "miss = 0.8  # Missing Percentage\n",
    "tp = 'sim'  # Define Auxiliary Information As 'Similarity Matrices'\n",
    "# Construct Similarity Matrices (if 'None', then it will use the default Similarity Matrices)\n",
    "# aux = [np.diag(np.ones(siz[n]-1), -1)+np.diag(np.ones(siz[n]-1), 1) for n in range(dims)]\n",
    "aux = None\n",
    "[X1, Omega1, sol1, sim_matrices] = create(problem, siz, r, miss, tp, aux=aux)\n",
    "\n",
    "self = AirCP(X1, Omega1, r, sim_mats=sim_matrices)\n",
    "self.run()\n",
    "# self_no_aux = AirCP(X1, Omega1, r)\n",
    "# self_no_aux.run()\n",
    "\n",
    "# Error Testing\n",
    "from pyten.tools import tenerror\n",
    "\n",
    "realX = sol1.totensor()\n",
    "[Err1, ReErr11, ReErr21] = tenerror(self.X, realX, Omega1)\n",
    "# [Err2, ReErr12, ReErr22] = tenerror(self_no_aux.X, realX, Omega1)\n",
    "print '\\n', 'The Relative Error of the Two Methods are:', ReErr11\n"
   ]
  },
  {
   "cell_type": "markdown",
   "metadata": {},
   "source": [
    "#### 2. Use  CMTF Method to solve Tensor Completion With Coupled Matrices"
   ]
  },
  {
   "cell_type": "code",
   "execution_count": null,
   "metadata": {},
   "outputs": [],
   "source": [
    "from pyten.method import cmtf\n",
    "from pyten.tools import create  # Import the problem creation function\n",
    "import numpy as np\n",
    "\n",
    "problem = 'auxiliary'  # Define Problem As Basic Tensor Completion Problem\n",
    "siz = [20, 20, 20]  # Size of the Created Synthetic Tensor\n",
    "r = [4, 4, 4]  # Rank of the Created Synthetic Tensor\n",
    "miss = 0.8  # Missing Percentage\n",
    "tp = 'couple'  # Define Auxiliary Information As 'Similarity Matrices'\n",
    "# Construct Similarity Matrices (if 'None', then it will use the default Similarity Matrices)\n",
    "dims = 3\n",
    "[X1, Omega1, sol1, coupled_matrices] = create(problem, siz, r, miss, tp)\n",
    "\n",
    "[T1, Rec1, V1] = cmtf(X1, coupled_matrices, [1, 2, 3], r, Omega1, maxiter=500)\n",
    "# [T2, Rec2, V2] = cmtf(X1, None, None, r, Omega1, maxiter=500)\n",
    "fit_coupled_matrices_1 = [np.dot(T1.Us[n], V1[n].T) for n in range(dims)]\n",
    "\n",
    "# Error Testing\n",
    "from pyten.tools import tenerror\n",
    "\n",
    "realX = sol1.totensor()\n",
    "[Err1, ReErr11, ReErr21] = tenerror(Rec1, realX, Omega1)\n",
    "# [Err1, ReErr12, ReErr22] = tenerror(Rec2, realX, Omega1)\n",
    "print '\\n', 'The Relative Error of the Two Methods are:', ReErr11\n"
   ]
  },
  {
   "cell_type": "markdown",
   "metadata": {},
   "source": [
    "### Scenario 3: Dynamic Tensor Decomposition/Completion"
   ]
  },
  {
   "cell_type": "code",
   "execution_count": null,
   "metadata": {},
   "outputs": [],
   "source": [
    "from pyten.method import onlineCP, OLSGD\n",
    "from pyten.tools import create  # Import the problem creation function\n",
    "from pyten.tools import tenerror\n",
    "import numpy as np\n",
    "\n",
    "problem = 'dynamic'  # Define Problem As Dynamic Tensor Completion Problem\n",
    "time_steps = 10  # Define the Number of Total Time Steps\n",
    "siz = np.array([[1, 50, 50] for t in range(time_steps)])\n",
    "r = [4, 4, 4]  # Rank of the Created Synthetic Tensor\n",
    "miss = 0.8  # Missing Percentage\n",
    "# Create a Dynmaic Tensor Completion Problem\n",
    "[X1, Omega1, sol1, siz, time_steps] = create(problem, siz, r, miss, timestep=time_steps)\n",
    "\n",
    "for t in range(time_steps):\n",
    "    if t == 0:  # Initial Step\n",
    "        print('Initial Step\\n')\n",
    "        self1 = OLSGD(rank=r, mu=0.01, lmbda=0.1)  # OLSGD assume time is the first mode.\n",
    "        self1.update(X1[t], Omega1[t])  # Complete the initial tensor using OLSGD method.\n",
    "        # onlineCP assume time is the last mode.\n",
    "        self = onlineCP(X1[t].permute([1, 2, 0]), rank=r, tol=1e-8, printitn=0)  # Just decompose without completion using onlineCP\n",
    "    else:\n",
    "        if t==1:\n",
    "            print('Update Step\\n')\n",
    "        self1.update(X1[t], Omega1[t])  # Update Decomposition as well as Completion using OLSGD.\n",
    "        self.update(X1[t].permute([1, 2, 0]))  # Update Decomposition of onlineCP.\n",
    "    # Test Current Step OLSGD Completion Error\n",
    "    realX = sol1[t].totensor()\n",
    "    [Err1, ReErr11, ReErr21] = tenerror(self1.recx, realX, Omega1[t])\n",
    "    print 'OLSGD Recover Error at Current Step:', Err1, ReErr11, ReErr21\n",
    "\n"
   ]
  },
  {
   "cell_type": "markdown",
   "metadata": {},
   "source": [
    "### Scenario 4: Scalable Tensor Completion/Decomposition"
   ]
  },
  {
   "cell_type": "markdown",
   "metadata": {},
   "source": [
    "#### 1. Solve Synthetic Completion Problem"
   ]
  },
  {
   "cell_type": "code",
   "execution_count": null,
   "metadata": {},
   "outputs": [],
   "source": [
    "from pyten.tools import create  # Import the problem creation function\n",
    "\n",
    "problem = 'basic'  # Define Problem As Basic Tensor Completion Problem\n",
    "siz = [20, 20, 20]  # Size of the Created Synthetic Tensor\n",
    "r = [4, 4, 4]  # Rank of the Created Synthetic Tensor\n",
    "miss = 0.8  # Missing Percentage\n",
    "tp = 'CP'  # Define Solution Format of the Created Synthetic Tensor As 'CP decomposition'\n",
    "[X1, Omega1, sol1] = create(problem, siz, r, miss, tp)\n",
    "\n",
    "# Basic Tensor Completion with methods: CP-ALS,Tucker-ALS, FaLRTC, SiLRTC, HaLRTC, TNCP\n",
    "from pyten.method import *\n",
    "\n",
    "r = 4  # Rank for CP-based methods\n",
    "R = [4, 4, 4]  # Rank for tucker-based methods\n",
    "\n",
    "# Distributed CP_ALS\n",
    "self0 = TensorDecompositionALS()\n",
    "self0.dir_data = X1  # Could also be '.csv' or '.txt' format, e.g. 'test/syntensor.csv', 'test/tensor_10x10x10_101.txt'\n",
    "self0.rank = r\n",
    "self0.run()\n",
    "\n",
    "# DistTensorADMM\n",
    "self1 = DistTensorADMM()\n",
    "self1.dir_data = X1  # Could also be '.csv' or '.txt' format, e.g. 'test/syntensor.csv', 'test/tensor_10x10x10_101.txt'\n",
    "self1.rank = r\n",
    "self1.run()\n",
    "\n",
    "# DistTensorCompletionADMM\n",
    "self2 = DistTensorCompletionADMM()\n",
    "self2.dir_data = X1  # Could also be '.csv' or '.txt' format, e.g. 'test/syntensor.csv', 'test/tensor_10x10x10_101.txt'\n",
    "self2.rank = r\n",
    "self2.run()\n",
    "\n",
    "# Error Testing\n",
    "from pyten.tools import tenerror\n",
    "realX = sol1.totensor()\n",
    "[Err1, ReErr11, ReErr21] = tenerror(self0.ktensor.totensor(), realX, Omega1)\n",
    "[Err2, ReErr21, ReErr22] = tenerror(self1.ktensor.totensor(), realX, Omega1)\n",
    "RecTensor = self2.ktensor.totensor().data*(1-Omega1)+X1.data*Omega1\n",
    "[Err3, ReErr31, ReErr32] = tenerror(RecTensor, realX, Omega1)\n",
    "print '\\n', 'The Relative Error of the Three Distributed Methods are:', ReErr21, ReErr22, ReErr32\n",
    "\n"
   ]
  },
  {
   "cell_type": "markdown",
   "metadata": {},
   "source": [
    "### Scenario *: Other Decomposition Method"
   ]
  },
  {
   "cell_type": "markdown",
   "metadata": {
    "collapsed": true
   },
   "source": [
    "#### 1. PARAFAC2"
   ]
  },
  {
   "cell_type": "code",
   "execution_count": null,
   "metadata": {},
   "outputs": [],
   "source": [
    "# Create multiset\n",
    "from pyten.method import parafac2  # Import the problem creation function\n",
    "from pyten.tools import create  # Import the problem creation function\n",
    "\n",
    "problem = 'basic'  # Define Problem As Basic Tensor Completion Problem\n",
    "siz = [30, 50, 40]  # Size of the Created Synthetic Tensor\n",
    "r = 5  # Rank of the Created Synthetic Tensor\n",
    "miss = 0  # Missing Percentage\n",
    "tp = 'Parafac2'  # Define Solution Format of the Created Synthetic Tensor As 'CP decomposition'\n",
    "[X1, Omega1, sol1] = create(problem, siz, r, miss, tp, share_mode_size=10)\n",
    "self = parafac2.PARAFAC2(X1, r, printitn=100, maxiter=1000, tol=1e-7)\n",
    "self.run()"
   ]
  },
  {
   "cell_type": "code",
   "execution_count": null,
   "metadata": {
    "collapsed": true
   },
   "outputs": [],
   "source": []
  }
 ],
 "metadata": {
  "anaconda-cloud": {},
  "kernelspec": {
   "display_name": "Python 3",
   "language": "python",
   "name": "python3"
  },
  "language_info": {
   "codemirror_mode": {
    "name": "ipython",
    "version": 3
   },
   "file_extension": ".py",
   "mimetype": "text/x-python",
   "name": "python",
   "nbconvert_exporter": "python",
   "pygments_lexer": "ipython3",
   "version": "3.8.6"
  }
 },
 "nbformat": 4,
 "nbformat_minor": 2
}
