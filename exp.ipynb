{
 "cells": [
  {
   "cell_type": "code",
   "execution_count": 1,
   "metadata": {},
   "outputs": [],
   "source": [
    "import numpy as np\n",
    "import scipy.sparse as sp\n",
    "import time\n",
    "from random import seed\n",
    "from random import randint\n",
    "from gurobipy import *\n",
    "from nonten import nonten,krcomp,predict\n",
    "import pyten\n",
    "from pyten.method import *\n",
    "from pyten.tenclass import Tensor  # Use it to construct Tensor object\n",
    "from pyten.tools import tenerror\n",
    "\n",
    "##################################################################\n",
    "# EDIT THESE TO CHANGE PROBLEM SETUP\n",
    "# Problem parameters\n",
    "r = (10,10,10)\n",
    "n = 500\n",
    "corners = 10\n",
    "reps = 100\n",
    "##################################################################\n",
    "\n",
    "# Compute derived parameters\n",
    "p = len(r) # order of the tenor\n",
    "cum_r = np.insert(np.cumsum(r), 0, 0)\n",
    "\n",
    "nonten_results = np.zeros((reps, 2)) \n",
    "amcomp_results = np.zeros((reps, 2)) \n",
    "silrtc_results = np.zeros((reps, 2)) \n",
    "tncomp_results = np.zeros((reps, 2)) "
   ]
  },
  {
   "cell_type": "code",
   "execution_count": 2,
   "metadata": {},
   "outputs": [
    {
     "data": {
      "text/plain": [
       "3"
      ]
     },
     "execution_count": 2,
     "metadata": {},
     "output_type": "execute_result"
    }
   ],
   "source": [
    "p"
   ]
  },
  {
   "cell_type": "code",
   "execution_count": 3,
   "metadata": {},
   "outputs": [
    {
     "data": {
      "text/plain": [
       "array([ 0, 10, 20, 30])"
      ]
     },
     "execution_count": 3,
     "metadata": {},
     "output_type": "execute_result"
    }
   ],
   "source": [
    "cum_r"
   ]
  },
  {
   "cell_type": "code",
   "execution_count": null,
   "metadata": {},
   "outputs": [],
   "source": []
  }
 ],
 "metadata": {
  "kernelspec": {
   "display_name": "Python 3.10.4 ('TenCom')",
   "language": "python",
   "name": "python3"
  },
  "language_info": {
   "codemirror_mode": {
    "name": "ipython",
    "version": 3
   },
   "file_extension": ".py",
   "mimetype": "text/x-python",
   "name": "python",
   "nbconvert_exporter": "python",
   "pygments_lexer": "ipython3",
   "version": "3.10.4"
  },
  "orig_nbformat": 4,
  "vscode": {
   "interpreter": {
    "hash": "81829b0f453d2be4bc06e5b76161b287373411dd3158e9c2c5c8f3fe1f512459"
   }
  }
 },
 "nbformat": 4,
 "nbformat_minor": 2
}
